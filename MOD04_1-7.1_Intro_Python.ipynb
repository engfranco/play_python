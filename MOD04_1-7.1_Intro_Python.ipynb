{
 "cells": [
  {
   "cell_type": "markdown",
   "metadata": {},
   "source": [
    "# 1-7.1 Intro Python\n",
    "## `while()` loops & increments\n",
    "- **while `True`  or forever loops**\n",
    "- **incrementing in loops**\n",
    "- Boolean operators in while loops\n",
    "\n",
    "\n",
    "-----  \n",
    "\n",
    "><font size=\"5\" color=\"#00A0B2\"  face=\"verdana\"> <B>Student will be able to</B></font>\n",
    "- **create forever loops using `while` and `break`**\n",
    "- **use incrementing variables in a while loop**\n",
    "- control while loops using Boolean operators"
   ]
  },
  {
   "cell_type": "markdown",
   "metadata": {},
   "source": [
    "# &nbsp;\n",
    "<font size=\"6\" color=\"#00A0B2\"  face=\"verdana\"> <B>Concepts</B></font>\n",
    "## `while True:`\n",
    "# Video: Unit1_Section7.1-while-forever.mp4\n",
    "**`while True:`** is known as the **forever loop** because it ...loops forever  \n",
    "\n",
    "Using the **`while True:`** statement results in a loop that continues to run forever   \n",
    "...or, until the loop is interrupted, such as with a **`break`** statement  \n",
    "\n",
    "## `break`\n",
    "### in a `while` loop, causes code flow to exit the loop  \n",
    "a **conditional** can implement **`break`** to exit a **`while True`** loop  "
   ]
  },
  {
   "cell_type": "markdown",
   "metadata": {},
   "source": [
    "# &nbsp;\n",
    "<font size=\"6\" color=\"#00A0B2\"  face=\"verdana\"> <B>Examples</B></font>\n",
    "## `while True` loops forever unless a `break` statement is used  "
   ]
  },
  {
   "cell_type": "code",
   "execution_count": 1,
   "metadata": {},
   "outputs": [
    {
     "name": "stdout",
     "output_type": "stream",
     "text": [
      "write forever, unless there is a \"break\"\n"
     ]
    }
   ],
   "source": [
    "# Review and run code\n",
    "# this example never loops because the break has no conditions\n",
    "while True:\n",
    "    print('write forever, unless there is a \"break\"')\n",
    "    break"
   ]
  },
  {
   "cell_type": "code",
   "execution_count": 2,
   "metadata": {},
   "outputs": [
    {
     "name": "stdout",
     "output_type": "stream",
     "text": [
      "guess the number 1 to 5: 3\n",
      "3 is incorrect\n",
      "\n",
      "guess the number 1 to 5: 3\n",
      "3 is incorrect\n",
      "\n",
      "guess the number 1 to 5: 5\n",
      "Yes 5 is correct!\n",
      "\n"
     ]
    }
   ],
   "source": [
    "# [ ] review the NUMBER GUESS code then run - Q. what cause the break statement to run?\n",
    "number_guess = \"0\"\n",
    "secret_number = \"5\"\n",
    "\n",
    "while True:\n",
    "    number_guess = input(\"guess the number 1 to 5: \")\n",
    "    if number_guess == secret_number:\n",
    "        print(\"Yes\", number_guess,\"is correct!\\n\")\n",
    "        break\n",
    "    else:\n",
    "        print(number_guess,\"is incorrect\\n\")"
   ]
  },
  {
   "cell_type": "code",
   "execution_count": 3,
   "metadata": {},
   "outputs": [
    {
     "name": "stdout",
     "output_type": "stream",
     "text": [
      "Enter weather (sunny, rainy, snowy, or quit): sun\n",
      "\n",
      "Sorry, not sure what to suggest for sun\n",
      "\n",
      "Enter weather (sunny, rainy, snowy, or quit): sunny\n",
      "\n",
      "Wear a t-shirt and sunscreen\n"
     ]
    }
   ],
   "source": [
    "# [ ] review WHAT TO WEAR code then run testing different inputs\n",
    "while True:\n",
    "    weather = input(\"Enter weather (sunny, rainy, snowy, or quit): \") \n",
    "    print()\n",
    "\n",
    "    if weather.lower() == \"sunny\":\n",
    "        print(\"Wear a t-shirt and sunscreen\")\n",
    "        break\n",
    "    elif weather.lower() == \"rainy\":\n",
    "        print(\"Bring an umbrella and boots\")\n",
    "        break\n",
    "    elif weather.lower() == \"snowy\":\n",
    "        print(\"Wear a warm coat and hat\")\n",
    "        break\n",
    "    elif weather.lower().startswith(\"q\"):\n",
    "        print('\"quit\" detected, exiting')\n",
    "        break\n",
    "    else:\n",
    "        print(\"Sorry, not sure what to suggest for\", weather +\"\\n\")"
   ]
  },
  {
   "cell_type": "markdown",
   "metadata": {},
   "source": [
    "# &nbsp;\n",
    "<font size=\"6\" color=\"#B24C00\"  face=\"verdana\"> <B>Task 1</B></font>\n",
    "## `while True` \n",
    "### [ ] Program: Get a name forever ...or until done\n",
    "- create variable, familar_name, and assign it an empty string (**`\"\"`**)\n",
    "- use **`while True:`**\n",
    "- ask for user input for familar_name (common name friends/family use) \n",
    "- keep asking until given a non-blank/non-space alphabetical name is received (Hint: Boolean string test)\n",
    "- break loop and print a greeting using familar_name"
   ]
  },
  {
   "cell_type": "code",
   "execution_count": 9,
   "metadata": {},
   "outputs": [
    {
     "name": "stdout",
     "output_type": "stream",
     "text": [
      "Write a familar name: Franco ale\n",
      "need to familar name\n",
      "Write a familar name: Caroline\n",
      "Write a familar name: Blah\n",
      "Hello Blah\n"
     ]
    }
   ],
   "source": [
    "# [ ] create Get Name program\n",
    "familar_name = \"\"\n",
    "while True:\n",
    "    familar_name = input(\"Write a familar name: \")\n",
    "    if familar_name.istitle() and familar_name.isalpha():\n",
    "        print(\"Hello\", familar_name)\n",
    "        break\n",
    "    else:\n",
    "        print(\"need to familar name\")\n",
    "        familar_name = input(\"Write a familar name: \")\n",
    "        \n",
    "\n"
   ]
  },
  {
   "cell_type": "markdown",
   "metadata": {
    "collapsed": true
   },
   "source": [
    "# &nbsp;\n",
    "<font size=\"6\" color=\"#00A0B2\"  face=\"verdana\"> <B>Concept</B></font>\n",
    "## Incrementing a variable\n",
    "[![view video](https://iajupyterprodblobs.blob.core.windows.net/imagecontainer/common/play_video.png)]( http://edxinteractivepage.blob.core.windows.net/edxpages/f7cff1a7-5601-48a1-95a6-fd1fdfabd20e.html?details=[{\"src\":\"http://jupyternootbookwams.streaming.mediaservices.windows.net/188da429-ec3b-4302-8a9b-be513a073bb5/Unit1_Section7.1-increment.ism/manifest\",\"type\":\"application/vnd.ms-sstr+xml\"}],[{\"src\":\"http://jupyternootbookwams.streaming.mediaservices.windows.net/188da429-ec3b-4302-8a9b-be513a073bb5/Unit1_Section7.1-increment.vtt\",\"srclang\":\"en\",\"kind\":\"subtitles\",\"label\":\"english\"}])\n",
    "## Incrementing\n",
    "### `votes = votes + 1` &nbsp; &nbsp; or &nbsp;  `votes += 1`\n",
    "\n",
    "## Decrementing \n",
    "### `votes = votes - 1` &nbsp; &nbsp; or &nbsp; `votes -= 1`"
   ]
  },
  {
   "cell_type": "markdown",
   "metadata": {},
   "source": [
    "# &nbsp;\n",
    "<font size=\"6\" color=\"#00A0B2\"  face=\"verdana\"> <B>Examples</B></font>\n",
    "  \n"
   ]
  },
  {
   "cell_type": "code",
   "execution_count": 12,
   "metadata": {},
   "outputs": [
    {
     "name": "stdout",
     "output_type": "stream",
     "text": [
      "3\n",
      "4\n",
      "6\n"
     ]
    }
   ],
   "source": [
    "# [ ] review and run example\n",
    "votes = 3\n",
    "print(votes)\n",
    "\n",
    "votes = votes + 1\n",
    "print(votes)\n",
    "\n",
    "votes += 2\n",
    "print(votes)"
   ]
  },
  {
   "cell_type": "code",
   "execution_count": 13,
   "metadata": {},
   "outputs": [
    {
     "name": "stdout",
     "output_type": "stream",
     "text": [
      "6\n",
      "5\n"
     ]
    }
   ],
   "source": [
    "print(votes)\n",
    "\n",
    "votes -= 1\n",
    "print(votes)"
   ]
  },
  {
   "cell_type": "code",
   "execution_count": null,
   "metadata": {},
   "outputs": [],
   "source": [
    "# [ ] review the SEAT COUNT code then run \n",
    "\n",
    "seat_count = 0\n",
    "while True:\n",
    "    print(\"seat count:\",seat_count)\n",
    "    seat_count = seat_count + 1\n",
    "\n",
    "    if seat_count > 4:\n",
    "        break"
   ]
  },
  {
   "cell_type": "code",
   "execution_count": 14,
   "metadata": {},
   "outputs": [
    {
     "name": "stdout",
     "output_type": "stream",
     "text": [
      "enter seat type of \"hard\",\"soft\" or \"exit\" (to finish): hard\n",
      "enter seat type of \"hard\",\"soft\" or \"exit\" (to finish): exit\n",
      "\n",
      "1 Seats Total:  1 hard and 0 soft\n"
     ]
    }
   ],
   "source": [
    "# [ ] review the SEAT TYPE COUNT code then run entering: hard, soft, medium and exit\n",
    "\n",
    "# initialize variables\n",
    "seat_count = 0\n",
    "soft_seats = 0\n",
    "hard_seats = 0\n",
    "num_seats = 4\n",
    "\n",
    "# loops tallying seats using soft pads vs hard, until seats full or user \"exits\"\n",
    "while True:\n",
    "    seat_type = input('enter seat type of \"hard\",\"soft\" or \"exit\" (to finish): ')\n",
    "    \n",
    "    if seat_type.lower().startswith(\"e\"):\n",
    "        print()\n",
    "        break\n",
    "    elif seat_type.lower() == \"hard\":\n",
    "        hard_seats += 1\n",
    "    elif seat_type.lower() == \"soft\":\n",
    "        soft_seats += 1\n",
    "    else:\n",
    "        print(\"invalid entry: counted as hard\")\n",
    "        hard_seats += 1  \n",
    "    seat_count += 1\n",
    "    if seat_count >= num_seats:\n",
    "        print(\"\\nseats are full\")\n",
    "        break\n",
    "        \n",
    "print(seat_count,\"Seats Total: \",hard_seats,\"hard and\",soft_seats,\"soft\" )"
   ]
  },
  {
   "cell_type": "markdown",
   "metadata": {},
   "source": [
    "# &nbsp;\n",
    "<font size=\"6\" color=\"#B24C00\"  face=\"verdana\"> <B>Task 2</B></font>\n",
    "## incrementing in a `while()` loop\n",
    "### Program: Shirt Count\n",
    "- enter a sizes (S, M, L)\n",
    "- tally the count of each size\n",
    "- input \"exit\" when finished\n",
    "- report out the purchase of each shirt size  \n"
   ]
  },
  {
   "cell_type": "code",
   "execution_count": 16,
   "metadata": {},
   "outputs": [
    {
     "name": "stdout",
     "output_type": "stream",
     "text": [
      "enter shirt size(S,M,L). Write \"exit\" for exits\n",
      "enter shirt size(S,M,L). Write \"exit\" for exitk\n",
      "invalid entry: counted as large\n",
      "enter shirt size(S,M,L). Write \"exit\" for exitm\n",
      "enter shirt size(S,M,L). Write \"exit\" for exit\n",
      "invalid entry: counted as large\n",
      "enter shirt size(S,M,L). Write \"exit\" for exite\n",
      "\n",
      "4 Shirts Total:  1 small, 1 soft, and 2 large\n"
     ]
    }
   ],
   "source": [
    "# initialize variables\n",
    "shirt_count = 0\n",
    "small_shirts = 0\n",
    "medium_shirts = 0\n",
    "large_shirts = 0\n",
    "num_shirts = 6\n",
    "\n",
    "# loops tallying seats using soft pads vs hard, until seats full or user \"exits\"\n",
    "while True:\n",
    "    shirt_type = input('enter shirt size(S,M,L). Write \"exit\" for exit')\n",
    "    \n",
    "    if shirt_type.lower().startswith(\"e\"):\n",
    "        print()\n",
    "        break\n",
    "    elif shirt_type.lower() == \"s\":\n",
    "        small_shirts += 1\n",
    "    elif shirt_type.lower() == \"m\":\n",
    "        medium_shirts += 1\n",
    "    elif shirt_type.lower() == \"l\":\n",
    "        large_shirts += 1\n",
    "    else:\n",
    "        print(\"invalid entry: counted as large\")\n",
    "        large_shirts += 1  \n",
    "    shirt_count += 1\n",
    "    if shirt_count >= num_shirts:\n",
    "        print(\"\\nno more shirts\")\n",
    "        break\n",
    "        \n",
    "print(shirt_count,\"Shirts Total: \",small_shirts,\"small,\",medium_shirts,\"soft, and\", large_shirts, \"large\")\n",
    "\n"
   ]
  },
  {
   "cell_type": "markdown",
   "metadata": {},
   "source": [
    "### CHALLENGE: Shirt Register (optional)  \n",
    "Update the **Shirt Count** program to calculate cost\n",
    "- use shirt cost (S = 6, M = 7, L = 8)\n",
    "- to calculate and report the subtotal cost for each size \n",
    "- to calculate and report the total cost of all shirts"
   ]
  },
  {
   "cell_type": "code",
   "execution_count": 20,
   "metadata": {},
   "outputs": [
    {
     "name": "stdout",
     "output_type": "stream",
     "text": [
      "enter shirt size(S,M,L). Write \"exit\" for exitl\n",
      "enter shirt size(S,M,L). Write \"exit\" for exitm\n",
      "enter shirt size(S,M,L). Write \"exit\" for exite\n",
      "\n",
      "2 Shirts Total:  0 small, 1 soft, and 1 large\n",
      "The total costs of shirts is: $15\n",
      "The total costs of small shirts is: $0\n",
      "The total costs of medium shirts is: $7\n",
      "The total costs of large shirts is: $8\n"
     ]
    }
   ],
   "source": [
    "# [ ] Create the Shirt Register program, run tests\n",
    "\n",
    "# initialize variables\n",
    "shirt_count = 0\n",
    "small_shirts = 0\n",
    "medium_shirts = 0\n",
    "large_shirts = 0\n",
    "num_shirts = 6\n",
    "small_cost = 6\n",
    "medium_cost = 7\n",
    "large_cost = 8\n",
    "\n",
    "# loops tallying seats using soft pads vs hard, until seats full or user \"exits\"\n",
    "while True:\n",
    "    shirt_type = input('enter shirt size(S,M,L). Write \"exit\" for exit')\n",
    "    \n",
    "    if shirt_type.lower().startswith(\"e\"):\n",
    "        print()\n",
    "        break\n",
    "    elif shirt_type.lower() == \"s\":\n",
    "        small_shirts += 1\n",
    "    elif shirt_type.lower() == \"m\":\n",
    "        medium_shirts += 1\n",
    "    elif shirt_type.lower() == \"l\":\n",
    "        large_shirts += 1\n",
    "    else:\n",
    "        print(\"invalid entry: counted as large\")\n",
    "        large_shirts += 1  \n",
    "    shirt_count += 1\n",
    "    if shirt_count >= num_shirts:\n",
    "        print(\"\\nno more shirts\")\n",
    "        break\n",
    "        \n",
    "print(shirt_count,\"Shirts Total: \",small_shirts,\"small,\",medium_shirts,\"soft, and\", large_shirts, \"large\")\n",
    "\n",
    "total_cost = int(small_shirts)*small_cost + int(medium_shirts)*medium_cost + int(large_shirts)*large_cost\n",
    "print(\"The total costs of shirts is: $\"+ str(total_cost))\n",
    "print(\"The total costs of small shirts is: $\"+ str(int(small_shirts)*small_cost))\n",
    "print(\"The total costs of medium shirts is: $\"+ str(int(medium_shirts)*medium_cost))\n",
    "print(\"The total costs of large shirts is: $\"+ str(int(large_shirts)*large_cost))\n",
    "\n"
   ]
  },
  {
   "cell_type": "markdown",
   "metadata": {},
   "source": [
    "[Terms of use](http://go.microsoft.com/fwlink/?LinkID=206977) &nbsp; [Privacy & cookies](https://go.microsoft.com/fwlink/?LinkId=521839) &nbsp; © 2017 Microsoft"
   ]
  }
 ],
 "metadata": {
  "anaconda-cloud": {},
  "kernelspec": {
   "display_name": "Python 3",
   "language": "python",
   "name": "python3"
  },
  "language_info": {
   "codemirror_mode": {
    "name": "ipython",
    "version": 3
   },
   "file_extension": ".py",
   "mimetype": "text/x-python",
   "name": "python",
   "nbconvert_exporter": "python",
   "pygments_lexer": "ipython3",
   "version": "3.6.4"
  }
 },
 "nbformat": 4,
 "nbformat_minor": 1
}
