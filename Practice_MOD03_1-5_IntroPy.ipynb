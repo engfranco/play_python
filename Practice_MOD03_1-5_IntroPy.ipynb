{
 "cells": [
  {
   "cell_type": "markdown",
   "metadata": {},
   "source": [
    "# 1-5 Intro Python Practice  \n",
    "## conditionals, type, and mathematics extended   \n",
    "&nbsp;\n",
    "<font size=\"5\" color=\"#00A0B2\"  face=\"verdana\"> <B>Student will be able to</B></font>  \n",
    "- code more than two choices using **`elif`** \n",
    "- gather numeric input using type casting  \n",
    "- perform subtraction, multiplication and division operations in code  &nbsp;  \n"
   ]
  },
  {
   "cell_type": "markdown",
   "metadata": {},
   "source": [
    "# &nbsp;  \n",
    "<font size=\"6\" color=\"#B24C00\"  face=\"verdana\"> <B>Tasks</B></font>"
   ]
  },
  {
   "cell_type": "markdown",
   "metadata": {},
   "source": [
    "### Rainbow colors\n",
    "ask for input of a favorite rainbow color first letter: ROYGBIV  \n",
    "\n",
    "Using `if`, `elif`, and `else`:  \n",
    "- print the color matching the letter  \n",
    "    - R = Red  \n",
    "    - O = Orange  \n",
    "    - Y = Yellow  \n",
    "    - G = Green\n",
    "    - B = Blue\n",
    "    - I = Indigo\n",
    "    - V = Violet\n",
    "    - else print \"no match\"\n"
   ]
  },
  {
   "cell_type": "code",
   "execution_count": 7,
   "metadata": {},
   "outputs": [
    {
     "name": "stdout",
     "output_type": "stream",
     "text": [
      "what is your favorite color in the rainbow (ROYGBIV)? s\n",
      "no match\n"
     ]
    }
   ],
   "source": [
    "# [ ] complete rainbow colors\n",
    "\n",
    "color = input(\"what is your favorite color in the rainbow (ROYGBIV)? \")\n",
    "\n",
    "if color.lower() == \"r\":\n",
    "    print(\"Red\")\n",
    "elif color.lower() == \"o\":\n",
    "    print(\"Orange\")\n",
    "elif color.lower() == \"Y\":\n",
    "    print(\"Yellow\")\n",
    "elif color.lower() == \"G\":\n",
    "    print(\"Green\")\n",
    "elif color.lower() == \"b\":\n",
    "    print(\"Blue\")\n",
    "elif color.lower() == \"i\":\n",
    "    print(\"Indigo\")\n",
    "elif color.lower() == \"v\":\n",
    "    print(\"Violet\")\n",
    "else:\n",
    "    print(\"no match\")\n"
   ]
  },
  {
   "cell_type": "code",
   "execution_count": 22,
   "metadata": {},
   "outputs": [
    {
     "name": "stdout",
     "output_type": "stream",
     "text": [
      "what is your favorite color in the rainbow (ROYGBIV)? r\n",
      "Red\n"
     ]
    }
   ],
   "source": [
    "# [ ] make the code above into a function rainbow_color() that has a string parameter, \n",
    "# get input and call the function and return the matching color as a string or \"no match\" message.\n",
    "# Call the function and print the return string.\n",
    "\n",
    "def rainbow_color(color):\n",
    "    if color.lower() == \"r\":\n",
    "        return \"Red\"\n",
    "    elif color.lower() == \"o\":\n",
    "        return \"Orange\"\n",
    "    elif color.lower() == \"y\":\n",
    "        return \"Yellow\"\n",
    "    elif color.lower() == \"g\":\n",
    "        return \"Green\"\n",
    "    elif color.lower() == \"b\":\n",
    "        return \"Blue\"\n",
    "    elif color.lower() == \"i\":\n",
    "        return \"Indigo\"\n",
    "    elif color.lower() == \"v\":\n",
    "        return \"Violet\"\n",
    "    else:\n",
    "        return \"no match\"\n",
    "\n",
    "    \n",
    "color = input(\"what is your favorite color in the rainbow (ROYGBIV)? \")\n",
    "\n",
    "print(rainbow_color(color))\n"
   ]
  },
  {
   "cell_type": "markdown",
   "metadata": {},
   "source": [
    "# &nbsp;  \n",
    "**Create function age_20() that adds or subtracts 20 from your age for a return value based on current age** (use `if`) \n",
    "- call the funtion with user input and then use the return value in a sentence  \n",
    "example `age_20(25)` returns **5**: \n",
    "> \"5 years old, 20 years difference from now\""
   ]
  },
  {
   "cell_type": "code",
   "execution_count": 12,
   "metadata": {},
   "outputs": [
    {
     "name": "stdout",
     "output_type": "stream",
     "text": [
      "give an age: 45\n",
      "25 years old, 20 years difference from now\n"
     ]
    }
   ],
   "source": [
    "# [ ] complete age_20()\n",
    "\n",
    "def age_20(age):\n",
    "    return int(age) - 20\n",
    "\n",
    "age = input(\"give an age: \")\n",
    "print(age_20(age),\"years old, 20 years difference from now\")\n"
   ]
  },
  {
   "cell_type": "markdown",
   "metadata": {},
   "source": [
    "**create a function rainbow_or_age that takes a string argument**\n",
    "- if argument is a digit return the value of calling age_20() with the str value cast as **`int`** \n",
    "- if argument is an alphabetical character return the value of calling rainbow_color() with the str\n",
    "- if neither return FALSE"
   ]
  },
  {
   "cell_type": "code",
   "execution_count": 27,
   "metadata": {},
   "outputs": [
    {
     "name": "stdout",
     "output_type": "stream",
     "text": [
      "give an age or raibow color t\n",
      "no match\n"
     ]
    }
   ],
   "source": [
    "# [ ]  create rainbow_or_age()\n",
    "def rainbow_or_age(input_):\n",
    "    if input_.isdigit():\n",
    "        print(age_20(input_),\"years old, 20 years difference from now\")\n",
    "    elif input_.isalpha():\n",
    "       # color = input(\"what is your favorite color in the rainbow (ROYGBIV)? \")\n",
    "        print(rainbow_color(input_))\n",
    "    else:\n",
    "        return False\n",
    "    \n",
    "\n",
    "x = input(\"give an age or raibow color \")\n",
    "rainbow_or_age(x)\n"
   ]
  },
  {
   "cell_type": "code",
   "execution_count": 29,
   "metadata": {},
   "outputs": [
    {
     "name": "stdout",
     "output_type": "stream",
     "text": [
      "give a numer:4 \n",
      "give another number:5.8\n",
      "the sum is:  9.8\n"
     ]
    }
   ],
   "source": [
    "# [ ]  add 2 numbers from input using a cast to integer and display the answer \n",
    "x = input(\"give a numer:\")\n",
    "y = input(\"give another number:\")\n",
    "\n",
    "x_and_y = float(x) + float(y)\n",
    "print(\"the sum is: \", x_and_y)"
   ]
  },
  {
   "cell_type": "code",
   "execution_count": 30,
   "metadata": {},
   "outputs": [
    {
     "name": "stdout",
     "output_type": "stream",
     "text": [
      "give a numer:4\n",
      "give another number:5\n",
      "the multiplication is:  20.0\n"
     ]
    }
   ],
   "source": [
    "# [ ] Multiply 2 numbers from input using cast and save the answer as part of a string \"the answer is...\"\n",
    "# display the string using print\n",
    "\n",
    "x = input(\"give a numer:\")\n",
    "y = input(\"give another number:\")\n",
    "\n",
    "x_and_y = float(x) * float(y)\n",
    "print(\"the multiplication is: \", x_and_y)\n"
   ]
  },
  {
   "cell_type": "code",
   "execution_count": 31,
   "metadata": {},
   "outputs": [
    {
     "name": "stdout",
     "output_type": "stream",
     "text": [
      "give a numer:4\n",
      "give another number:6\n",
      "the average is:  5.0\n"
     ]
    }
   ],
   "source": [
    "# [ ] get input of 2 numbers and display the average: (num1 + num2) divided by 2\n",
    "x = input(\"give a numer:\")\n",
    "y = input(\"give another number:\")\n",
    "\n",
    "x_and_y = (float(x) + float(y))/2\n",
    "print(\"the average is: \", x_and_y)\n",
    "\n"
   ]
  },
  {
   "cell_type": "code",
   "execution_count": 35,
   "metadata": {},
   "outputs": [
    {
     "name": "stdout",
     "output_type": "stream",
     "text": [
      "give a numer, x=5\n",
      "give another number, y=10\n",
      "y - x =  5.0\n"
     ]
    }
   ],
   "source": [
    "# [ ] get input of 2 numbers and subtract the largest from the smallest (use an if statement to see which is larger)\n",
    "# show the answer\n",
    "x = input(\"give a numer, x=\")\n",
    "y = input(\"give another number, y=\")\n",
    "\n",
    "if float(x)>=float(y):\n",
    "    print(\"x - y = \", float(x)-float(y))\n",
    "else:\n",
    "    print(\"y - x = \", float(y)-float(x))"
   ]
  },
  {
   "cell_type": "code",
   "execution_count": 42,
   "metadata": {},
   "outputs": [
    {
     "name": "stdout",
     "output_type": "stream",
     "text": [
      "give a numer, x=4\n",
      "give another number, y=7\n",
      "y / x =  1.75\n"
     ]
    }
   ],
   "source": [
    "# [ ] Divide a larger number by a smaller number and print the integer part of the result\n",
    "# don't divide by zero! if a zero is input make the result zero\n",
    "# [ ] cast the answer to an integer to cut off the decimals and print the result\n",
    "x = float(input(\"give a numer, x=\"))\n",
    "y = float(input((\"give another number, y=\")))\n",
    "\n",
    "if x>=y:\n",
    "    if y==0:\n",
    "        print(\"can't devide by zero (y)\")\n",
    "    else:\n",
    "        print(\"x / y = \", float(x)/float(y))\n",
    "else:\n",
    "    if x==0:\n",
    "        print(\"can't devide by zero (x)\")\n",
    "    else:\n",
    "        print(\"y / x = \", float(y)/float(x))\n"
   ]
  },
  {
   "cell_type": "markdown",
   "metadata": {},
   "source": [
    "[Terms of use](http://go.microsoft.com/fwlink/?LinkID=206977) &nbsp; [Privacy & cookies](https://go.microsoft.com/fwlink/?LinkId=521839) &nbsp; © 2017 Microsoft"
   ]
  }
 ],
 "metadata": {
  "anaconda-cloud": {},
  "kernelspec": {
   "display_name": "Python 3",
   "language": "python",
   "name": "python3"
  },
  "language_info": {
   "codemirror_mode": {
    "name": "ipython",
    "version": 3
   },
   "file_extension": ".py",
   "mimetype": "text/x-python",
   "name": "python",
   "nbconvert_exporter": "python",
   "pygments_lexer": "ipython3",
   "version": "3.6.4"
  }
 },
 "nbformat": 4,
 "nbformat_minor": 1
}
